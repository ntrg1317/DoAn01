{
 "cells": [
  {
   "cell_type": "code",
   "execution_count": 21,
   "metadata": {},
   "outputs": [],
   "source": [
    "import pandas as pd\n",
    "import mysql.connector\n",
    "from sqlalchemy import create_engine, text\n",
    "from sqlalchemy_utils import create_database, database_exists"
   ]
  },
  {
   "cell_type": "code",
   "execution_count": 23,
   "metadata": {},
   "outputs": [],
   "source": [
    "db_user = 'root'\n",
    "db_password = ''\n",
    "db_host = 'localhost'\n",
    "db_port = '3306'\n",
    "db_name = 'mdpi_staging'\n",
    "\n",
    "# Tạo đối tượng kết nối tới MySQL\n",
    "connection_string = f\"mysql+pymysql://{db_user}:{db_password}@{db_host}:{db_port}/{db_name}\"\n",
    "if not database_exists(connection_string):\n",
    "    create_database(connection_string)\n",
    "engine = create_engine(f'mysql+pymysql://{db_user}:{db_password}@{db_host}:{db_port}/{db_name}')"
   ]
  },
  {
   "cell_type": "code",
   "execution_count": 24,
   "metadata": {},
   "outputs": [],
   "source": [
    "# Đổ dữ liệu vào MySQL\n",
    "paper_subject.to_sql(name='paper_subject', con=engine, if_exists='replace', index=False)\n",
    "paper_journal.to_sql(name='paper_journal', con=engine, if_exists='replace', index=False)\n",
    "paper_author.to_sql(name='paper_author', con=engine, if_exists='replace', index=False)\n",
    "author.to_sql(name='author', con=engine, if_exists='replace', index=False)\n",
    "subject.to_sql(name='subject', con=engine, if_exists='replace', index=False)\n",
    "journal.to_sql(name='journal', con=engine, if_exists='replace', index=False)\n",
    "paper.to_sql(name='paper', con=engine, if_exists='replace', index=False)\n",
    "\n",
    "sql_commands = [\n",
    "    \"ALTER TABLE subject ADD PRIMARY KEY (id);\",\n",
    "    \"ALTER TABLE journal ADD PRIMARY KEY (id);\",\n",
    "    \"ALTER TABLE paper ADD PRIMARY KEY (id);\",\n",
    "    \"ALTER TABLE author ADD PRIMARY KEY (id);\",\n",
    "    \"ALTER TABLE paper_subject ADD PRIMARY KEY (paper_id, subject_id);\",\n",
    "    \"ALTER TABLE paper_journal ADD PRIMARY KEY (paper_id, journal_id);\",\n",
    "    \"ALTER TABLE paper_author ADD PRIMARY KEY (paper_id, author_id);\",\n",
    "    \"ALTER TABLE paper_subject ADD CONSTRAINT fk_paper FOREIGN KEY (paper_id) REFERENCES paper(id), ADD CONSTRAINT fk_subject FOREIGN KEY (subject_id) REFERENCES subject(id);\",\n",
    "    \"ALTER TABLE paper_journal ADD CONSTRAINT fk_paper_journal FOREIGN KEY (paper_id) REFERENCES paper(id), ADD CONSTRAINT fk_journal FOREIGN KEY (journal_id) REFERENCES journal(id);\",\n",
    "    \"ALTER TABLE paper_author ADD CONSTRAINT fk_paper_author FOREIGN KEY (paper_id) REFERENCES paper(id), ADD CONSTRAINT fk_author FOREIGN KEY (author_id) REFERENCES author(id);\"\n",
    "]\n",
    "\n",
    "# Thực hiện các câu lệnh SQL\n",
    "with engine.connect() as connection:\n",
    "    for sql in sql_commands:\n",
    "        connection.execute(text(sql))"
   ]
  }
 ],
 "metadata": {
  "kernelspec": {
   "display_name": "Python 3",
   "language": "python",
   "name": "python3"
  },
  "language_info": {
   "codemirror_mode": {
    "name": "ipython",
    "version": 3
   },
   "file_extension": ".py",
   "mimetype": "text/x-python",
   "name": "python",
   "nbconvert_exporter": "python",
   "pygments_lexer": "ipython3",
   "version": "3.12.0"
  },
  "orig_nbformat": 4
 },
 "nbformat": 4,
 "nbformat_minor": 2
}
